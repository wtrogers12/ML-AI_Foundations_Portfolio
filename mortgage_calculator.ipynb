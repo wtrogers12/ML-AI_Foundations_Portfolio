{
  "nbformat": 4,
  "nbformat_minor": 0,
  "metadata": {
    "colab": {
      "provenance": [],
      "authorship_tag": "ABX9TyMuoCEWYsEzwwf34Pd8X6jc",
      "include_colab_link": true
    },
    "kernelspec": {
      "name": "python3",
      "display_name": "Python 3"
    },
    "language_info": {
      "name": "python"
    }
  },
  "cells": [
    {
      "cell_type": "markdown",
      "metadata": {
        "id": "view-in-github",
        "colab_type": "text"
      },
      "source": [
        "<a href=\"https://colab.research.google.com/github/wtrogers12/ML-AI_Foundations_Portfolio/blob/main/mortgage_calculator.ipynb\" target=\"_parent\"><img src=\"https://colab.research.google.com/assets/colab-badge.svg\" alt=\"Open In Colab\"/></a>"
      ]
    },
    {
      "cell_type": "code",
      "execution_count": 1,
      "metadata": {
        "id": "DNKFafjUr2dX",
        "colab": {
          "base_uri": "https://localhost:8080/"
        },
        "outputId": "fee7ff7a-d76a-4a50-f7dd-81e6e7652d97"
      },
      "outputs": [
        {
          "output_type": "stream",
          "name": "stdout",
          "text": [
            "Enter loan amount: 320000\n",
            "Enter annual interest rate (%): 3.1\n",
            "Enter loan term in years: 30\n",
            "Monthly payment: $ 1366.45\n"
          ]
        }
      ],
      "source": [
        "def mortgage_calculator(loan_amount, annual_interest_rate, loan_term_years):\n",
        "    # Convert annual interest rate to monthly interest rate\n",
        "    monthly_interest_rate = annual_interest_rate / 100 / 12\n",
        "\n",
        "    # Convert loan term from years to months\n",
        "    loan_term_months = loan_term_years * 12\n",
        "\n",
        "    # Calculate monthly payment using the formula for monthly mortgage payment\n",
        "    monthly_payment = loan_amount * (monthly_interest_rate * (1 + monthly_interest_rate) ** loan_term_months) / ((1 + monthly_interest_rate) ** loan_term_months - 1)\n",
        "\n",
        "    return monthly_payment\n",
        "\n",
        "if __name__ == \"__main__\":\n",
        "    loan_amount = float(input(\"Enter loan amount: \"))\n",
        "    annual_interest_rate = float(input(\"Enter annual interest rate (%): \"))\n",
        "    loan_term_years = int(input(\"Enter loan term in years: \"))\n",
        "\n",
        "    monthly_payment = mortgage_calculator(loan_amount, annual_interest_rate, loan_term_years)\n",
        "\n",
        "    print(\"Monthly payment: $\", round(monthly_payment, 2))\n"
      ]
    }
  ]
}